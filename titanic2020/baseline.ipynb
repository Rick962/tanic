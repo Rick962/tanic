{
 "cells": [
  {
   "cell_type": "code",
   "execution_count": null,
   "metadata": {},
   "outputs": [],
   "source": [
    "import pandas as pd\n",
    "from sklearn.linear_model import LogisticRegression\n",
    "\n",
    "Xtrain = pd.read_csv(\"X_train.csv\")\n",
    "Xtest = pd.read_csv(\"X_test.csv\")\n",
    "ytrain = pd.read_csv(\"ytrain.csv\")\n",
    "\n",
    "Xtrain_num = Xtrain[['age','sibsp','parch','fare']].fillna(0)\n",
    "Xtest_num = Xtest[['age','sibsp','parch','fare']].fillna(0)\n",
    "\n",
    "model = LogisticRegression()\n",
    "model.fit(Xtrain_num, ytrain['survived'])\n",
    "\n",
    "pred = model.predict(Xtest_num)\n",
    "\n",
    "Xtest_num['id'] = Xtest['id']\n",
    "Xtest_num['survived'] = pred\n",
    "Xtest_num[['id','survived']].to_csv(\"baseline_prediction.csv\", index=False)"
   ]
  }
 ],
 "metadata": {
  "kernelspec": {
   "display_name": "Python 3",
   "language": "python",
   "name": "python3"
  },
  "language_info": {
   "codemirror_mode": {
    "name": "ipython",
    "version": 3
   },
   "file_extension": ".py",
   "mimetype": "text/x-python",
   "name": "python",
   "nbconvert_exporter": "python",
   "pygments_lexer": "ipython3",
   "version": "3.6.6"
  }
 },
 "nbformat": 4,
 "nbformat_minor": 2
}
